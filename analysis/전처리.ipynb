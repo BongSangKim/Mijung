{
 "cells": [
  {
   "cell_type": "code",
   "execution_count": 2,
   "metadata": {},
   "outputs": [
    {
     "name": "stdout",
     "output_type": "stream",
     "text": [
      "매핑 작업이 완료되었습니다! 결과는 'mapped_output.csv'에 저장되었습니다.\n"
     ]
    }
   ],
   "source": [
    "import csv\n",
    "\n",
    "# CSV 파일을 불러오고, Numbers와 Ingre List Names를 분리하여 매핑하는 함수\n",
    "def load_and_map_csv(file_path):\n",
    "    mapped_data = []\n",
    "    \n",
    "    # CSV 파일 열기\n",
    "    with open(file_path, newline='', encoding='cp949') as csvfile:\n",
    "        reader = csv.DictReader(csvfile)\n",
    "        \n",
    "        # 각 행에 대해 처리\n",
    "        for row in reader:\n",
    "            numbers = row['Numbers from href'].split('|')  # '|'로 구분된 숫자\n",
    "            ingredients = row['Ingre List Names'].split('|')  # '|'로 구분된 재료\n",
    "            \n",
    "            # 숫자와 재료 매핑\n",
    "            mapping = dict(zip(numbers, ingredients))\n",
    "            mapped_data.append(mapping)\n",
    "    \n",
    "    return mapped_data\n",
    "\n",
    "# 매핑된 데이터를 CSV로 저장하는 함수\n",
    "def save_mapped_data_to_csv(mapped_data, output_file):\n",
    "    with open(output_file, 'w', newline='', encoding='utf-8') as csvfile:\n",
    "        writer = csv.writer(csvfile)\n",
    "        writer.writerow(['Number', 'Ingredient'])  # 헤더 작성\n",
    "        \n",
    "        # 매핑된 데이터 작성\n",
    "        for mapping in mapped_data:\n",
    "            for number, ingredient in mapping.items():\n",
    "                writer.writerow([number, ingredient])\n",
    "\n",
    "# 파일 경로 설정 및 실행\n",
    "input_file = \"C:/Users/SSAFY/Downloads/output_part_1ingre_processed.csv\"  # 사용자의 파일 경로\n",
    "output_file = 'mapped_output.csv'\n",
    "\n",
    "# CSV 파일을 불러와 매핑한 후, 새로운 CSV 파일로 저장\n",
    "mapped_data = load_and_map_csv(input_file)\n",
    "save_mapped_data_to_csv(mapped_data, output_file)\n",
    "\n",
    "print(\"매핑 작업이 완료되었습니다! 결과는 'mapped_output.csv'에 저장되었습니다.\")\n"
   ]
  },
  {
   "cell_type": "code",
   "execution_count": 9,
   "metadata": {},
   "outputs": [
    {
     "name": "stdout",
     "output_type": "stream",
     "text": [
      "ID와 Name 매핑 정보가 'id_name_mapping.csv' 파일에 저장되었습니다.\n"
     ]
    }
   ],
   "source": [
    "import csv\n",
    "\n",
    "# CSV 파일 경로 설정\n",
    "csv_file = \"C:/Users/SSAFY/Downloads/output_part_1ingre_processed.csv\"\n",
    "output_csv_file = 'id_name_mapping.csv'\n",
    "\n",
    "# 빈 딕셔너리 생성\n",
    "id_to_name = {}\n",
    "\n",
    "# CSV 파일 읽기\n",
    "with open(csv_file, 'r', encoding='cp949') as file:\n",
    "    reader = csv.reader(file)\n",
    "    \n",
    " # 각 행에서 id와 name을 추출하여 딕셔너리에 저장\n",
    "    for row in reader:\n",
    "        ids = row[2].strip(\"[]\").replace(\"'\", \"\").split(', ')  # ID 목록 추출\n",
    "        names = row[3].strip(\"[]\").replace(\"'\", \"\").split(', ')  # Name 목록 추출\n",
    "        \n",
    "        for id_, name in zip(ids, names):\n",
    "            # if id_ and name:  # 둘 다 값이 있을 경우에만 저장\n",
    "            id_to_name[id_] = name\n",
    "\n",
    "# 새로운 CSV 파일에 저장\n",
    "with open(output_csv_file, 'w', encoding='cp949', newline='') as file:\n",
    "    writer = csv.writer(file)\n",
    "    writer.writerow(['ID', 'Name'])  # 헤더 작성\n",
    "    \n",
    "    # 딕셔너리에서 id와 name을 꺼내어 파일에 작성\n",
    "    for id_, name in id_to_name.items():\n",
    "        writer.writerow([id_, name])\n",
    "\n",
    "print(f\"ID와 Name 매핑 정보가 '{output_csv_file}' 파일에 저장되었습니다.\")\n"
   ]
  },
  {
   "cell_type": "code",
   "execution_count": 10,
   "metadata": {},
   "outputs": [
    {
     "name": "stdout",
     "output_type": "stream",
     "text": [
      "ID와 Name 매핑 정보가 'id_name_mapping(2).csv' 파일에 중복을 포함하여 저장되었습니다.\n"
     ]
    }
   ],
   "source": [
    "import csv\n",
    "\n",
    "# CSV 파일 경로 설정\n",
    "csv_file = \"C:/Users/SSAFY/Downloads/output_part_1ingre_processed.csv\"\n",
    "output_csv_file = 'id_name_mapping(2).csv'\n",
    "\n",
    "# 빈 리스트 생성 (중복을 허용하기 위해 리스트 사용)\n",
    "id_name_pairs = []\n",
    "\n",
    "# CSV 파일 읽기\n",
    "with open(csv_file, 'r', encoding='cp949') as file:\n",
    "    reader = csv.reader(file)\n",
    "    \n",
    "    # 각 행에서 id와 name을 추출하여 리스트에 저장\n",
    "    for row in reader:\n",
    "        ids = row[2].strip(\"[]\").replace(\"'\", \"\").split(', ')  # ID 목록 추출\n",
    "        names = row[3].strip(\"[]\").replace(\"'\", \"\").split(', ')  # Name 목록 추출\n",
    "        \n",
    "        for id_, name in zip(ids, names):\n",
    "            # ID와 Name 쌍을 리스트에 추가\n",
    "            id_name_pairs.append([id_, name])\n",
    "\n",
    "# 새로운 CSV 파일에 저장\n",
    "with open(output_csv_file, 'w', encoding='cp949', newline='') as file:\n",
    "    writer = csv.writer(file)\n",
    "    writer.writerow(['ID', 'Name'])  # 헤더 작성\n",
    "    \n",
    "    # 리스트에서 id와 name을 꺼내어 파일에 작성\n",
    "    writer.writerows(id_name_pairs)\n",
    "\n",
    "print(f\"ID와 Name 매핑 정보가 '{output_csv_file}' 파일에 중복을 포함하여 저장되었습니다.\")\n"
   ]
  },
  {
   "cell_type": "code",
   "execution_count": 26,
   "metadata": {},
   "outputs": [
    {
     "name": "stdout",
     "output_type": "stream",
     "text": [
      "ID와 중복된 Name 매핑 정보가 'id_name_mapping(4).csv' 파일에 저장되었습니다.\n"
     ]
    }
   ],
   "source": [
    "import csv\n",
    "\n",
    "# CSV 파일 경로 설정\n",
    "csv_file = \"C:/Users/SSAFY/Desktop/merged_output.csv\"\n",
    "output_csv_file = 'id_name_mapping(4).csv'\n",
    "\n",
    "# 빈 딕셔너리 생성 (중복을 포함하여 리스트 형태로 저장)\n",
    "id_name_dict = {}\n",
    "\n",
    "# CSV 파일 읽기\n",
    "with open(csv_file, 'r', encoding='latin1') as file:  # 인코딩을 'latin1'으로 변경\n",
    "    reader = csv.reader(file)\n",
    "\n",
    "    # 각 행에서 id와 name을 추출하여 딕셔너리에 저장\n",
    "    for row in reader:\n",
    "        ids = row[2].strip(\"[]\").replace(\"'\", \"\").split(', ')  # ID 목록 추출\n",
    "        names = row[3].strip(\"[]\").replace(\"'\", \"\").split(', ')  # Name 목록 추출\n",
    "\n",
    "        for id_, name in zip(ids, names):\n",
    "            # 딕셔너리의 key가 id이고, 그 value가 name 리스트가 되도록 처리\n",
    "            if id_ not in id_name_dict:\n",
    "                id_name_dict[id_] = [name]  # 새로운 id의 경우 리스트로 초기화\n",
    "            else:\n",
    "                if name not in id_name_dict[id_]:  # 중복된 Name이 아닌 경우에만 추가\n",
    "                    id_name_dict[id_].append(name)\n",
    "\n",
    "# 새로운 CSV 파일에 저장\n",
    "with open(output_csv_file, 'w', encoding='utf-8', newline='') as file:\n",
    "    writer = csv.writer(file)\n",
    "    writer.writerow(['ID', 'Names'])  # 헤더 작성\n",
    "    \n",
    "    # 딕셔너리에서 id와 중복된 name들을 꺼내어 파일에 작성\n",
    "    for id_, names in id_name_dict.items():\n",
    "        writer.writerow([id_, ', '.join(names)])\n",
    "\n",
    "print(f\"ID와 중복된 Name 매핑 정보가 '{output_csv_file}' 파일에 저장되었습니다.\")\n"
   ]
  },
  {
   "cell_type": "code",
   "execution_count": 15,
   "metadata": {},
   "outputs": [
    {
     "name": "stdout",
     "output_type": "stream",
     "text": [
      "모든 CSV 파일이 'merged_output.csv' 파일로 합쳐졌습니다.\n"
     ]
    }
   ],
   "source": [
    "import pandas as pd\n",
    "import os\n",
    "\n",
    "# CSV 파일들이 저장된 폴더 경로\n",
    "folder_path = \"C:/Users/SSAFY/Downloads/split\" # CSV 파일들이 들어있는 폴더 경로를 입력하세요.\n",
    "output_csv_file = 'merged_output.csv'  # 최종 합쳐진 CSV 파일 이름\n",
    "\n",
    "# 모든 CSV 파일을 읽어서 리스트에 저장\n",
    "csv_files = [os.path.join(folder_path, file) for file in os.listdir(folder_path) if file.endswith('.csv')]\n",
    "\n",
    "# 빈 데이터프레임 리스트\n",
    "df_list = []\n",
    "\n",
    "# 각 CSV 파일을 데이터프레임으로 읽고 리스트에 추가\n",
    "for csv_file in csv_files:\n",
    "    df = pd.read_csv(csv_file, encoding='cp949')  # 인코딩을 utf-8로 변경\n",
    "    df_list.append(df)\n",
    "\n",
    "\n",
    "# 데이터프레임 리스트를 하나로 합치기\n",
    "merged_df = pd.concat(df_list, ignore_index=True)\n",
    "\n",
    "# 합쳐진 데이터를 새로운 CSV 파일로 저장\n",
    "merged_df.to_csv(output_csv_file, index=False, encoding='utf-8')\n",
    "\n",
    "print(f\"모든 CSV 파일이 '{output_csv_file}' 파일로 합쳐졌습니다.\")\n"
   ]
  }
 ],
 "metadata": {
  "kernelspec": {
   "display_name": "Python 3",
   "language": "python",
   "name": "python3"
  },
  "language_info": {
   "codemirror_mode": {
    "name": "ipython",
    "version": 3
   },
   "file_extension": ".py",
   "mimetype": "text/x-python",
   "name": "python",
   "nbconvert_exporter": "python",
   "pygments_lexer": "ipython3",
   "version": "3.9.13"
  }
 },
 "nbformat": 4,
 "nbformat_minor": 2
}
